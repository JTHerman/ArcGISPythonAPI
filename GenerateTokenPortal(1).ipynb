{
 "cells": [
  {
   "cell_type": "markdown",
   "metadata": {},
   "source": [
    "Import necessary modules"
   ]
  },
  {
   "cell_type": "code",
   "execution_count": null,
   "metadata": {},
   "outputs": [],
   "source": [
    "import requests\n",
    "import json"
   ]
  },
  {
   "cell_type": "markdown",
   "metadata": {},
   "source": [
    "\n",
    "\n",
    "Define variables **(user input required here)**"
   ]
  },
  {
   "cell_type": "code",
   "execution_count": null,
   "metadata": {},
   "outputs": [],
   "source": [
    "### Variables used in generateToken request ###\n",
    "\n",
    "portal_url = \"\" # ex. https://webadaptormachine.domain.com/webadaptorname or https://portalmachine.domain.com:7443/arcgis\n",
    "username = \"\" # username that will be used to request token\n",
    "password = \"\" # password that will be used to request token\n",
    "referer = \"\" # base URL of the client application that will use the token\n",
    "\n",
    "### Variables used in query request to feature service ###\n",
    "\n",
    "query_url = \"\" # ex. https://webadaptormachine.domain.com/webadaptorname/rest/services/servicename/0/query\n",
    "where = \"\" # ex. \"1=1\" to return all features"
   ]
  },
  {
   "cell_type": "markdown",
   "metadata": {},
   "source": [
    "## Part 1: Generate token"
   ]
  },
  {
   "cell_type": "markdown",
   "metadata": {},
   "source": [
    "Construct dictionary with variables that will be used to make the POST request"
   ]
  },
  {
   "cell_type": "code",
   "execution_count": null,
   "metadata": {},
   "outputs": [],
   "source": [
    "generate_token_params = {\n",
    "    \"username\": username,\n",
    "    \"password\": password,\n",
    "    \"client\": \"referer\",\n",
    "    \"referer\": referer,\n",
    "    \"f\": \"json\"\n",
    "}"
   ]
  },
  {
   "cell_type": "markdown",
   "metadata": {},
   "source": [
    "Make the POST request and obtain a JSON response containing the token"
   ]
  },
  {
   "cell_type": "code",
   "execution_count": null,
   "metadata": {},
   "outputs": [],
   "source": [
    "token_request = requests.post(portal_url + \"/sharing/rest/generateToken\", data=generate_token_params, verify=False)"
   ]
  },
  {
   "cell_type": "markdown",
   "metadata": {},
   "source": [
    "Handle the response. If the request returns any status code other than 200, provide the status code. If Portal for ArcGIS returns an error, print information about the error. If a token is returned, print the token."
   ]
  },
  {
   "cell_type": "code",
   "execution_count": null,
   "metadata": {},
   "outputs": [],
   "source": [
    "json_response = json.loads(token_request.text)\n",
    "\n",
    "if token_request.status_code == 200:\n",
    "    if \"error\" in json_response.keys():\n",
    "        print(\"Error {}: {}\\nDetails: {}\".format(json_response[\"error\"][\"code\"],\n",
    "                                                 json_response[\"error\"][\"message\"],\n",
    "                                                 json_response[\"error\"][\"details\"]))\n",
    "    if \"token\" in json_response.keys():\n",
    "        token = json_response[\"token\"]\n",
    "        print(\"Token:\\n\\n{}\".format(token, json_response[\"expires\"]))\n",
    "else:\n",
    "    print(\"HTTP error: {}\".format(token_request.status_code))"
   ]
  },
  {
   "cell_type": "markdown",
   "metadata": {},
   "source": [
    "## Part 2: Query a secured feature service with the token "
   ]
  },
  {
   "cell_type": "markdown",
   "metadata": {},
   "source": [
    "Construct dictionary with variables that will be used to make the GET request to the feature service"
   ]
  },
  {
   "cell_type": "code",
   "execution_count": null,
   "metadata": {},
   "outputs": [],
   "source": [
    "query_request_params = {\n",
    "    \"where\": where,\n",
    "    \"returnCountOnly\": True,\n",
    "    \"token\": token,\n",
    "    \"f\": \"json\"\n",
    "}"
   ]
  },
  {
   "cell_type": "markdown",
   "metadata": {},
   "source": [
    "Make the GET request and obtain the response in JSON format"
   ]
  },
  {
   "cell_type": "code",
   "execution_count": null,
   "metadata": {},
   "outputs": [],
   "source": [
    "query_request = requests.get(query_url, params=query_request_params, verify=False)"
   ]
  },
  {
   "cell_type": "markdown",
   "metadata": {},
   "source": [
    "Print the JSON response"
   ]
  },
  {
   "cell_type": "code",
   "execution_count": null,
   "metadata": {},
   "outputs": [],
   "source": [
    "json_response2 = json.loads(query_request.text)\n",
    "print(json_response2)"
   ]
  },
  {
   "cell_type": "code",
   "execution_count": null,
   "metadata": {},
   "outputs": [],
   "source": []
  }
 ],
 "metadata": {
  "kernelspec": {
   "display_name": "Python 3",
   "language": "python",
   "name": "python3"
  },
  "language_info": {
   "codemirror_mode": {
    "name": "ipython",
    "version": 3
   },
   "file_extension": ".py",
   "mimetype": "text/x-python",
   "name": "python",
   "nbconvert_exporter": "python",
   "pygments_lexer": "ipython3",
   "version": "3.6.10"
  }
 },
 "nbformat": 4,
 "nbformat_minor": 4
}
